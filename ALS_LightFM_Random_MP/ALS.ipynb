{
  "cells": [
    {
      "cell_type": "markdown",
      "metadata": {
        "id": "hGImJ2N4D9zV"
      },
      "source": [
        "# Implementación ALS"
      ]
    },
    {
      "cell_type": "markdown",
      "metadata": {
        "id": "AQ5HykA-Gh6w"
      },
      "source": [
        "## LIBRERIAS"
      ]
    },
    {
      "cell_type": "code",
      "execution_count": 1,
      "metadata": {
        "id": "1nfMVgS8ExbP"
      },
      "outputs": [
        {
          "name": "stderr",
          "output_type": "stream",
          "text": [
            "/home/martinrsts/.local/lib/python3.10/site-packages/tqdm/auto.py:21: TqdmWarning: IProgress not found. Please update jupyter and ipywidgets. See https://ipywidgets.readthedocs.io/en/stable/user_install.html\n",
            "  from .autonotebook import tqdm as notebook_tqdm\n"
          ]
        }
      ],
      "source": [
        "import pandas as pd\n",
        "import numpy as np\n",
        "import implicit\n",
        "import scipy.sparse as sparse\n",
        "import json"
      ]
    },
    {
      "cell_type": "markdown",
      "metadata": {
        "id": "_0W6azeEIVB1"
      },
      "source": [
        "## Dataframes\n"
      ]
    },
    {
      "cell_type": "code",
      "execution_count": 2,
      "metadata": {
        "id": "iTXsJO6tE3WH"
      },
      "outputs": [],
      "source": [
        "df_postulantes = pd.read_csv('postulantes_procesados.csv', index_col=0)\n",
        "df_establecimientos = pd.read_csv('establecimientos_procesados.csv', index_col=0)\n",
        "df_postulaciones_training = pd.read_csv('postulaciones_training.csv', index_col=0)\n",
        "df_postulaciones_testing = pd.read_csv('postulaciones_testing.csv', index_col=0)"
      ]
    },
    {
      "cell_type": "code",
      "execution_count": 3,
      "metadata": {
        "id": "pw_1FoWwFCMQ"
      },
      "outputs": [],
      "source": [
        "user_items_testing = {}\n",
        "\n",
        "for row in df_postulaciones_testing.itertuples():\n",
        "  if row[1] not in user_items_testing:\n",
        "      user_items_testing[row[1]] = []\n",
        "  user_items_testing[row[1]].append(row[2])"
      ]
    },
    {
      "cell_type": "code",
      "execution_count": 4,
      "metadata": {
        "id": "BSmCRsdUFIHW"
      },
      "outputs": [],
      "source": [
        "# Definicion de métricas (No editar)\n",
        "# Obtenido de https://gist.github.com/bwhite/3726239\n",
        "\n",
        "def precision_at_k_perso(r, k):\n",
        "    assert k >= 1\n",
        "    r = np.asarray(r)[:k] != 0\n",
        "    if r.size != k:\n",
        "        raise ValueError('Relevance score length < k')\n",
        "    return np.mean(r)\n",
        "\n",
        "def average_precision(r):\n",
        "    r = np.asarray(r) != 0\n",
        "    out = [precision_at_k_perso(r, k + 1) for k in range(r.size) if r[k]]\n",
        "    if not out:\n",
        "        return 0.\n",
        "    return np.mean(out)\n",
        "\n",
        "def mean_average_precision(rs):\n",
        "    return np.mean([average_precision(r) for r in rs])\n",
        "\n",
        "def dcg_at_k(r, k):\n",
        "    r = np.asarray(r, dtype=float)[:k]\n",
        "    if r.size:\n",
        "        return np.sum(np.subtract(np.power(2, r), 1) / np.log2(np.arange(2, r.size + 2)))\n",
        "    return 0.\n",
        "\n",
        "\n",
        "def ndcg_at_k(r, k):\n",
        "    idcg = dcg_at_k(sorted(r, reverse=True), k)\n",
        "\n",
        "    if not idcg:\n",
        "        return 0.\n",
        "    return dcg_at_k(r, k) / idcg\n",
        "\n",
        "def recall_at_k(r):\n",
        "    recall = np.mean(r)\n",
        "    return recall"
      ]
    },
    {
      "cell_type": "code",
      "execution_count": 5,
      "metadata": {
        "id": "ZUk0CdN7uKbs"
      },
      "outputs": [],
      "source": [
        "user_items_training = {}\n",
        "itemset_training = set()\n",
        "\n",
        "i = 0\n",
        "for row in df_postulaciones_training.itertuples():\n",
        "  if row[1] not in user_items_training:\n",
        "      user_items_training[row[1]] = []\n",
        "\n",
        "  user_items_training[row[1]].append(row[2])\n",
        "  itemset_training.add(row[2])\n",
        "\n",
        "itemset_training = np.sort(list(itemset_training))\n"
      ]
    },
    {
      "cell_type": "code",
      "execution_count": 6,
      "metadata": {
        "id": "sPVoFnpKFJBV"
      },
      "outputs": [],
      "source": [
        "sparse_matrix = np.zeros((len(user_items_training), len(itemset_training)))\n",
        "userid_to_i = {}\n",
        "\n",
        "for i, items in enumerate(user_items_training.values()):\n",
        "    sparse_matrix[i] = np.isin(itemset_training, items, assume_unique=True).astype(int)\n",
        "\n",
        "\n",
        "matrix = sparse.csr_matrix(sparse_matrix.T)\n",
        "\n",
        "user_ids = {key: i for i, key in enumerate(user_items_training.keys())}\n",
        "user_item_matrix = matrix.T.tocsr()"
      ]
    },
    {
      "cell_type": "code",
      "execution_count": 7,
      "metadata": {
        "id": "1ynejRo5FNwW"
      },
      "outputs": [],
      "source": [
        "def evaluate_model(model, n):\n",
        "  mean_map = 0.\n",
        "  mean_ndcg = 0.\n",
        "  mean_recall = 0.\n",
        "  for u, c in zip(user_items_testing.keys(), user_items_testing.keys()):\n",
        "    c = user_ids[c]\n",
        "    rec = model.recommend(c, user_item_matrix[c], n)[0]\n",
        "    rel_vector = [np.isin(itemset_training[rec], user_items_testing[u], assume_unique=True).astype(int)]\n",
        "    vector_for_recall = [np.isin(user_items_testing[u], itemset_training[rec], assume_unique=True).astype(int)]\n",
        "    mean_map += mean_average_precision(rel_vector)\n",
        "    mean_ndcg += ndcg_at_k(rel_vector, n)\n",
        "    mean_recall += recall_at_k(vector_for_recall)\n",
        "\n",
        "  mean_map /= len(user_items_testing)\n",
        "  mean_ndcg /= len(user_items_testing)\n",
        "  mean_recall /= len(user_items_testing)\n",
        "\n",
        "  return mean_map, mean_ndcg, mean_recall"
      ]
    },
    {
      "cell_type": "code",
      "execution_count": 8,
      "metadata": {
        "colab": {
          "base_uri": "https://localhost:8080/",
          "height": 104,
          "referenced_widgets": [
            "b2fb4dd729d84162aa45d3027593542d",
            "0624a397d2c84f0e8e5fd0ae83dc76ac",
            "4cce36daf4824190aa407ef674cf3e19",
            "87a3195a40504585b007697922df5030",
            "da37c2a805bc43a7b449bdb8ce80fc9c",
            "53fabec9b0084f9a9d75449b07299328",
            "b192572f5af74c0bb2e3375426775ec5",
            "e8fdeea41bdc484698b585dfdf363107",
            "239fa54c47864ee78e65dc9a2ed7724c",
            "ad27987f58fa412ebd9ef5f25fb23d58",
            "68bd655b4d494caab0a64e70c77e6466"
          ]
        },
        "id": "7AHpdW2PFT1O",
        "outputId": "1c17c6a6-4ba5-4947-e173-b7fc2551fd14"
      },
      "outputs": [
        {
          "name": "stderr",
          "output_type": "stream",
          "text": [
            "/home/martinrsts/.local/lib/python3.10/site-packages/implicit/cpu/als.py:95: RuntimeWarning: OpenBLAS is configured to use 6 threads. It is highly recommended to disable its internal threadpool by setting the environment variable 'OPENBLAS_NUM_THREADS=1' or by calling 'threadpoolctl.threadpool_limits(1, \"blas\")'. Having OpenBLAS use a threadpool can lead to severe performance issues here.\n",
            "  check_blas_config()\n",
            "100%|██████████| 100/100 [00:56<00:00,  1.78it/s]\n"
          ]
        }
      ],
      "source": [
        "# Definimos y entrenamos el modelo con optimización ALS\n",
        "model_als = implicit.als.AlternatingLeastSquares(factors=100, iterations=100, use_gpu=False)\n",
        "model_als.fit(user_item_matrix)"
      ]
    },
    {
      "cell_type": "code",
      "execution_count": 9,
      "metadata": {},
      "outputs": [
        {
          "name": "stdout",
          "output_type": "stream",
          "text": [
            "map: 0.2534925287956621\n",
            "ndcg: 0.6466527347409382\n",
            "recall: 0.5733189839073679\n"
          ]
        }
      ],
      "source": [
        "maprec, ndcg, recall = evaluate_model(model_als, n=20)\n",
        "print('map: {}\\nndcg: {}\\nrecall: {}'.format(maprec, ndcg, recall))"
      ]
    },
    {
      "cell_type": "code",
      "execution_count": 10,
      "metadata": {},
      "outputs": [],
      "source": [
        "recomendaciones = {}\n",
        "\n",
        "for u, c in zip(user_items_testing.keys(), user_items_testing.keys()):\n",
        "    c = user_ids[c]\n",
        "    rec = model_als.recommend(c, user_item_matrix[c], 20)[0]\n",
        "    recomendaciones[u] = [int(i) for i in itemset_training[rec]]"
      ]
    },
    {
      "cell_type": "code",
      "execution_count": null,
      "metadata": {},
      "outputs": [],
      "source": [
        "with open('../Visualizacion/data/recomendaciones_als.json', 'w') as output:\n",
        "    json.dump(recomendaciones, output)"
      ]
    }
  ],
  "metadata": {
    "colab": {
      "collapsed_sections": [
        "AQ5HykA-Gh6w",
        "4bve9AjFtRw4",
        "Tt0sUNoBo0BP"
      ],
      "provenance": []
    },
    "kernelspec": {
      "display_name": "Python 3",
      "name": "python3"
    },
    "language_info": {
      "codemirror_mode": {
        "name": "ipython",
        "version": 3
      },
      "file_extension": ".py",
      "mimetype": "text/x-python",
      "name": "python",
      "nbconvert_exporter": "python",
      "pygments_lexer": "ipython3",
      "version": "3.10.12"
    },
    "widgets": {
      "application/vnd.jupyter.widget-state+json": {
        "0624a397d2c84f0e8e5fd0ae83dc76ac": {
          "model_module": "@jupyter-widgets/controls",
          "model_module_version": "1.5.0",
          "model_name": "HTMLModel",
          "state": {
            "_dom_classes": [],
            "_model_module": "@jupyter-widgets/controls",
            "_model_module_version": "1.5.0",
            "_model_name": "HTMLModel",
            "_view_count": null,
            "_view_module": "@jupyter-widgets/controls",
            "_view_module_version": "1.5.0",
            "_view_name": "HTMLView",
            "description": "",
            "description_tooltip": null,
            "layout": "IPY_MODEL_53fabec9b0084f9a9d75449b07299328",
            "placeholder": "​",
            "style": "IPY_MODEL_b192572f5af74c0bb2e3375426775ec5",
            "value": "100%"
          }
        },
        "239fa54c47864ee78e65dc9a2ed7724c": {
          "model_module": "@jupyter-widgets/controls",
          "model_module_version": "1.5.0",
          "model_name": "ProgressStyleModel",
          "state": {
            "_model_module": "@jupyter-widgets/controls",
            "_model_module_version": "1.5.0",
            "_model_name": "ProgressStyleModel",
            "_view_count": null,
            "_view_module": "@jupyter-widgets/base",
            "_view_module_version": "1.2.0",
            "_view_name": "StyleView",
            "bar_color": null,
            "description_width": ""
          }
        },
        "4cce36daf4824190aa407ef674cf3e19": {
          "model_module": "@jupyter-widgets/controls",
          "model_module_version": "1.5.0",
          "model_name": "FloatProgressModel",
          "state": {
            "_dom_classes": [],
            "_model_module": "@jupyter-widgets/controls",
            "_model_module_version": "1.5.0",
            "_model_name": "FloatProgressModel",
            "_view_count": null,
            "_view_module": "@jupyter-widgets/controls",
            "_view_module_version": "1.5.0",
            "_view_name": "ProgressView",
            "bar_style": "success",
            "description": "",
            "description_tooltip": null,
            "layout": "IPY_MODEL_e8fdeea41bdc484698b585dfdf363107",
            "max": 10,
            "min": 0,
            "orientation": "horizontal",
            "style": "IPY_MODEL_239fa54c47864ee78e65dc9a2ed7724c",
            "value": 10
          }
        },
        "53fabec9b0084f9a9d75449b07299328": {
          "model_module": "@jupyter-widgets/base",
          "model_module_version": "1.2.0",
          "model_name": "LayoutModel",
          "state": {
            "_model_module": "@jupyter-widgets/base",
            "_model_module_version": "1.2.0",
            "_model_name": "LayoutModel",
            "_view_count": null,
            "_view_module": "@jupyter-widgets/base",
            "_view_module_version": "1.2.0",
            "_view_name": "LayoutView",
            "align_content": null,
            "align_items": null,
            "align_self": null,
            "border": null,
            "bottom": null,
            "display": null,
            "flex": null,
            "flex_flow": null,
            "grid_area": null,
            "grid_auto_columns": null,
            "grid_auto_flow": null,
            "grid_auto_rows": null,
            "grid_column": null,
            "grid_gap": null,
            "grid_row": null,
            "grid_template_areas": null,
            "grid_template_columns": null,
            "grid_template_rows": null,
            "height": null,
            "justify_content": null,
            "justify_items": null,
            "left": null,
            "margin": null,
            "max_height": null,
            "max_width": null,
            "min_height": null,
            "min_width": null,
            "object_fit": null,
            "object_position": null,
            "order": null,
            "overflow": null,
            "overflow_x": null,
            "overflow_y": null,
            "padding": null,
            "right": null,
            "top": null,
            "visibility": null,
            "width": null
          }
        },
        "68bd655b4d494caab0a64e70c77e6466": {
          "model_module": "@jupyter-widgets/controls",
          "model_module_version": "1.5.0",
          "model_name": "DescriptionStyleModel",
          "state": {
            "_model_module": "@jupyter-widgets/controls",
            "_model_module_version": "1.5.0",
            "_model_name": "DescriptionStyleModel",
            "_view_count": null,
            "_view_module": "@jupyter-widgets/base",
            "_view_module_version": "1.2.0",
            "_view_name": "StyleView",
            "description_width": ""
          }
        },
        "87a3195a40504585b007697922df5030": {
          "model_module": "@jupyter-widgets/controls",
          "model_module_version": "1.5.0",
          "model_name": "HTMLModel",
          "state": {
            "_dom_classes": [],
            "_model_module": "@jupyter-widgets/controls",
            "_model_module_version": "1.5.0",
            "_model_name": "HTMLModel",
            "_view_count": null,
            "_view_module": "@jupyter-widgets/controls",
            "_view_module_version": "1.5.0",
            "_view_name": "HTMLView",
            "description": "",
            "description_tooltip": null,
            "layout": "IPY_MODEL_ad27987f58fa412ebd9ef5f25fb23d58",
            "placeholder": "​",
            "style": "IPY_MODEL_68bd655b4d494caab0a64e70c77e6466",
            "value": " 10/10 [01:29&lt;00:00,  8.28s/it]"
          }
        },
        "ad27987f58fa412ebd9ef5f25fb23d58": {
          "model_module": "@jupyter-widgets/base",
          "model_module_version": "1.2.0",
          "model_name": "LayoutModel",
          "state": {
            "_model_module": "@jupyter-widgets/base",
            "_model_module_version": "1.2.0",
            "_model_name": "LayoutModel",
            "_view_count": null,
            "_view_module": "@jupyter-widgets/base",
            "_view_module_version": "1.2.0",
            "_view_name": "LayoutView",
            "align_content": null,
            "align_items": null,
            "align_self": null,
            "border": null,
            "bottom": null,
            "display": null,
            "flex": null,
            "flex_flow": null,
            "grid_area": null,
            "grid_auto_columns": null,
            "grid_auto_flow": null,
            "grid_auto_rows": null,
            "grid_column": null,
            "grid_gap": null,
            "grid_row": null,
            "grid_template_areas": null,
            "grid_template_columns": null,
            "grid_template_rows": null,
            "height": null,
            "justify_content": null,
            "justify_items": null,
            "left": null,
            "margin": null,
            "max_height": null,
            "max_width": null,
            "min_height": null,
            "min_width": null,
            "object_fit": null,
            "object_position": null,
            "order": null,
            "overflow": null,
            "overflow_x": null,
            "overflow_y": null,
            "padding": null,
            "right": null,
            "top": null,
            "visibility": null,
            "width": null
          }
        },
        "b192572f5af74c0bb2e3375426775ec5": {
          "model_module": "@jupyter-widgets/controls",
          "model_module_version": "1.5.0",
          "model_name": "DescriptionStyleModel",
          "state": {
            "_model_module": "@jupyter-widgets/controls",
            "_model_module_version": "1.5.0",
            "_model_name": "DescriptionStyleModel",
            "_view_count": null,
            "_view_module": "@jupyter-widgets/base",
            "_view_module_version": "1.2.0",
            "_view_name": "StyleView",
            "description_width": ""
          }
        },
        "b2fb4dd729d84162aa45d3027593542d": {
          "model_module": "@jupyter-widgets/controls",
          "model_module_version": "1.5.0",
          "model_name": "HBoxModel",
          "state": {
            "_dom_classes": [],
            "_model_module": "@jupyter-widgets/controls",
            "_model_module_version": "1.5.0",
            "_model_name": "HBoxModel",
            "_view_count": null,
            "_view_module": "@jupyter-widgets/controls",
            "_view_module_version": "1.5.0",
            "_view_name": "HBoxView",
            "box_style": "",
            "children": [
              "IPY_MODEL_0624a397d2c84f0e8e5fd0ae83dc76ac",
              "IPY_MODEL_4cce36daf4824190aa407ef674cf3e19",
              "IPY_MODEL_87a3195a40504585b007697922df5030"
            ],
            "layout": "IPY_MODEL_da37c2a805bc43a7b449bdb8ce80fc9c"
          }
        },
        "da37c2a805bc43a7b449bdb8ce80fc9c": {
          "model_module": "@jupyter-widgets/base",
          "model_module_version": "1.2.0",
          "model_name": "LayoutModel",
          "state": {
            "_model_module": "@jupyter-widgets/base",
            "_model_module_version": "1.2.0",
            "_model_name": "LayoutModel",
            "_view_count": null,
            "_view_module": "@jupyter-widgets/base",
            "_view_module_version": "1.2.0",
            "_view_name": "LayoutView",
            "align_content": null,
            "align_items": null,
            "align_self": null,
            "border": null,
            "bottom": null,
            "display": null,
            "flex": null,
            "flex_flow": null,
            "grid_area": null,
            "grid_auto_columns": null,
            "grid_auto_flow": null,
            "grid_auto_rows": null,
            "grid_column": null,
            "grid_gap": null,
            "grid_row": null,
            "grid_template_areas": null,
            "grid_template_columns": null,
            "grid_template_rows": null,
            "height": null,
            "justify_content": null,
            "justify_items": null,
            "left": null,
            "margin": null,
            "max_height": null,
            "max_width": null,
            "min_height": null,
            "min_width": null,
            "object_fit": null,
            "object_position": null,
            "order": null,
            "overflow": null,
            "overflow_x": null,
            "overflow_y": null,
            "padding": null,
            "right": null,
            "top": null,
            "visibility": null,
            "width": null
          }
        },
        "e8fdeea41bdc484698b585dfdf363107": {
          "model_module": "@jupyter-widgets/base",
          "model_module_version": "1.2.0",
          "model_name": "LayoutModel",
          "state": {
            "_model_module": "@jupyter-widgets/base",
            "_model_module_version": "1.2.0",
            "_model_name": "LayoutModel",
            "_view_count": null,
            "_view_module": "@jupyter-widgets/base",
            "_view_module_version": "1.2.0",
            "_view_name": "LayoutView",
            "align_content": null,
            "align_items": null,
            "align_self": null,
            "border": null,
            "bottom": null,
            "display": null,
            "flex": null,
            "flex_flow": null,
            "grid_area": null,
            "grid_auto_columns": null,
            "grid_auto_flow": null,
            "grid_auto_rows": null,
            "grid_column": null,
            "grid_gap": null,
            "grid_row": null,
            "grid_template_areas": null,
            "grid_template_columns": null,
            "grid_template_rows": null,
            "height": null,
            "justify_content": null,
            "justify_items": null,
            "left": null,
            "margin": null,
            "max_height": null,
            "max_width": null,
            "min_height": null,
            "min_width": null,
            "object_fit": null,
            "object_position": null,
            "order": null,
            "overflow": null,
            "overflow_x": null,
            "overflow_y": null,
            "padding": null,
            "right": null,
            "top": null,
            "visibility": null,
            "width": null
          }
        }
      }
    }
  },
  "nbformat": 4,
  "nbformat_minor": 0
}
