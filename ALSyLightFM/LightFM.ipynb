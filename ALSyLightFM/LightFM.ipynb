{
  "cells": [
    {
      "cell_type": "markdown",
      "metadata": {
        "id": "YQTohgJkLd8s"
      },
      "source": [
        "# Implementación LightFM"
      ]
    },
    {
      "cell_type": "markdown",
      "metadata": {
        "id": "csKptpk2WV_B"
      },
      "source": [
        "## Librerias"
      ]
    },
    {
      "cell_type": "code",
      "execution_count": 14,
      "metadata": {
        "id": "81WTQ_adWaSo"
      },
      "outputs": [],
      "source": [
        "from lightfm import LightFM\n",
        "from lightfm.data import Dataset\n",
        "import pandas as pd\n",
        "import numpy as np\n",
        "from sklearn.preprocessing import LabelEncoder\n",
        "from lightfm.evaluation import precision_at_k, recall_at_k\n",
        "from lightfm.evaluation import auc_score\n",
        "from itertools import product\n",
        "import json"
      ]
    },
    {
      "cell_type": "markdown",
      "metadata": {
        "id": "Nn_vxiCkNHof"
      },
      "source": [
        "## Datasets"
      ]
    },
    {
      "cell_type": "code",
      "execution_count": 15,
      "metadata": {
        "id": "O1rtsnwttiAr"
      },
      "outputs": [],
      "source": [
        "df_postulantes = pd.read_csv('postulantes_procesados.csv', index_col=0)\n",
        "df_establecimientos = pd.read_csv('establecimientos_procesados.csv', index_col=0)\n",
        "df_postulaciones_training = pd.read_csv('postulaciones_training.csv', index_col=0)\n",
        "df_postulaciones_testing = pd.read_csv('postulaciones_testing.csv', index_col=0)"
      ]
    },
    {
      "cell_type": "code",
      "execution_count": 16,
      "metadata": {
        "id": "9zJqlwHLhTdg"
      },
      "outputs": [],
      "source": [
        "for col in df_establecimientos.columns:\n",
        "  if ((col != 'LATITUD') and (col != 'LONGITUD')):\n",
        "    df_establecimientos[col] = df_establecimientos[col].astype(int)"
      ]
    },
    {
      "cell_type": "code",
      "execution_count": 17,
      "metadata": {
        "id": "kcYYaQj8Hwgw"
      },
      "outputs": [],
      "source": [
        "df_establecimientos.drop(columns=['COD_COM_RBD', 'LATITUD', 'LONGITUD'], inplace=True)"
      ]
    },
    {
      "cell_type": "code",
      "execution_count": 18,
      "metadata": {
        "id": "eWe3_ViUuIbE"
      },
      "outputs": [],
      "source": [
        "dataset = Dataset()\n",
        "dataset.fit(\n",
        "    users=df_postulaciones_training['mrun'].unique(),\n",
        "    items=df_postulaciones_training['rbd'].unique(),\n",
        "    item_features=[col for col in df_establecimientos.columns if col != 'RBD']\n",
        ")"
      ]
    },
    {
      "cell_type": "code",
      "execution_count": 19,
      "metadata": {
        "colab": {
          "base_uri": "https://localhost:8080/"
        },
        "id": "_MRl_BfvuqOw",
        "outputId": "0ded52d3-c624-415e-dd4e-c8812840433d"
      },
      "outputs": [],
      "source": [
        "# Construir las interacciones de entrenamiento\n",
        "(interactions, weights) = dataset.build_interactions(\n",
        "    (row['mrun'], row['rbd']) for _, row in df_postulaciones_training.iterrows()\n",
        ")"
      ]
    },
    {
      "cell_type": "code",
      "execution_count": 20,
      "metadata": {
        "colab": {
          "base_uri": "https://localhost:8080/"
        },
        "id": "jtER_sdQu1LO",
        "outputId": "e2f90fc7-38dd-44c5-b457-367e359dac84"
      },
      "outputs": [],
      "source": [
        "# Construir las características de los ítems\n",
        "item_features = dataset.build_item_features(\n",
        "    [\n",
        "        (row['RBD'], {col: int(row[col]) for col in df_establecimientos.columns if col != 'RBD'})\n",
        "        for _, row in df_establecimientos.iterrows()\n",
        "    ]\n",
        ")"
      ]
    },
    {
      "cell_type": "code",
      "execution_count": 21,
      "metadata": {},
      "outputs": [
        {
          "data": {
            "text/plain": [
              "<lightfm.lightfm.LightFM at 0x7fdf12a678e0>"
            ]
          },
          "execution_count": 21,
          "metadata": {},
          "output_type": "execute_result"
        }
      ],
      "source": [
        "model = LightFM(loss='bpr')\n",
        "model.fit_partial(interactions, item_features=item_features)"
      ]
    },
    {
      "cell_type": "code",
      "execution_count": 22,
      "metadata": {
        "id": "z4jtvu48l3gk"
      },
      "outputs": [],
      "source": [
        "# Construir las interacciones de prueba\n",
        "(test_interactions, test_weights) = dataset.build_interactions(\n",
        "    (row['mrun'], row['rbd']) for _, row in df_postulaciones_testing.iterrows()\n",
        ")\n"
      ]
    },
    {
      "cell_type": "code",
      "execution_count": 23,
      "metadata": {
        "colab": {
          "base_uri": "https://localhost:8080/"
        },
        "id": "rVCe1sXhnu6p",
        "outputId": "ee42b9af-72c9-41ec-ca56-64535eb87807"
      },
      "outputs": [
        {
          "name": "stdout",
          "output_type": "stream",
          "text": [
            "Precision: train 0.0031891256, test 0.0018145132.\n",
            "AUC: train 0.5448706746, test 0.5664147139.\n",
            "Recall: train 0.0097201398, test 0.0112207712.\n"
          ]
        }
      ],
      "source": [
        "# Evaluar el modelo\n",
        "train_precision = precision_at_k(model=model, test_interactions=interactions, item_features=item_features, k=10).mean()\n",
        "test_precision = precision_at_k(model=model, test_interactions=test_interactions, item_features=item_features, k=10, train_interactions=interactions).mean()\n",
        "\n",
        "train_auc = auc_score(model=model, test_interactions=interactions, item_features=item_features).mean()\n",
        "test_auc = auc_score(model=model, test_interactions=test_interactions, item_features=item_features, train_interactions=interactions).mean()\n",
        "\n",
        "train_recall = recall_at_k(model=model, test_interactions=interactions, item_features=item_features, k=10).mean()\n",
        "test_recall = recall_at_k(model=model, test_interactions=test_interactions, item_features=item_features, k=10, train_interactions=interactions).mean()\n",
        "\n",
        "print('Precision: train %.10f, test %.10f.' % (train_precision, test_precision))\n",
        "print('AUC: train %.10f, test %.10f.' % (train_auc, test_auc))\n",
        "print('Recall: train %.10f, test %.10f.' % (train_recall, test_recall))"
      ]
    },
    {
      "cell_type": "code",
      "execution_count": 25,
      "metadata": {},
      "outputs": [
        {
          "name": "stdout",
          "output_type": "stream",
          "text": [
            "1\n",
            "2\n",
            "3\n",
            "4\n",
            "5\n",
            "6\n",
            "7\n",
            "8\n",
            "9\n",
            "10\n",
            "11\n"
          ]
        }
      ],
      "source": [
        "predicciones_lightfm = {}\n",
        "lista_id_usuarios = list(dataset.mapping()[0].keys())\n",
        "lista_id_establecimientos = list(dataset.mapping()[2].keys())\n",
        "\n",
        "\n",
        "x = 0\n",
        "for _,usuario in df_postulaciones_testing.iterrows():\n",
        "    x += 1\n",
        "    print(x)\n",
        "    if x > 10:\n",
        "        break\n",
        "    (test_interactions, test_weights) = dataset.build_interactions(\n",
        "        (usuario['mrun'], row['rbd']) for _, row in df_postulaciones_testing.iterrows()\n",
        "    )\n",
        "    ranks = model.predict_rank(test_interactions, item_features=item_features)\n",
        "    non_zero_values = ranks.data\n",
        "    row_indices, col_indices = ranks.nonzero()\n",
        "\n",
        "    non_zero_elements = list(zip(row_indices, col_indices, non_zero_values))\n",
        "    non_zero_elements = [(int(row[2]), int(row[0]), int(row[1])) for row in non_zero_elements]\n",
        "    non_zero_elements.sort()\n",
        "    predicciones_lightfm[int(lista_id_usuarios[non_zero_elements[0][1]])] = [int(lista_id_establecimientos[non_zero_elements[i][2]]) for i in range(20)]\n",
        "\n",
        "with open('recomendaciones_lightfm.json', 'w') as output:\n",
        "    json.dump(predicciones_lightfm, output)"
      ]
    }
  ],
  "metadata": {
    "colab": {
      "collapsed_sections": [
        "AQ5HykA-Gh6w",
        "4bve9AjFtRw4",
        "Tt0sUNoBo0BP"
      ],
      "provenance": []
    },
    "kernelspec": {
      "display_name": "Python 3",
      "name": "python3"
    },
    "language_info": {
      "codemirror_mode": {
        "name": "ipython",
        "version": 3
      },
      "file_extension": ".py",
      "mimetype": "text/x-python",
      "name": "python",
      "nbconvert_exporter": "python",
      "pygments_lexer": "ipython3",
      "version": "3.10.12"
    }
  },
  "nbformat": 4,
  "nbformat_minor": 0
}
