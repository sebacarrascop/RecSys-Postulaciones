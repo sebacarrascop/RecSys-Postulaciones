{
  "cells": [
    {
      "cell_type": "markdown",
      "metadata": {
        "id": "hGImJ2N4D9zV"
      },
      "source": [
        "# Implementación ALS"
      ]
    },
    {
      "cell_type": "markdown",
      "metadata": {
        "id": "AQ5HykA-Gh6w"
      },
      "source": [
        "## LIBRERIAS"
      ]
    },
    {
      "cell_type": "code",
      "execution_count": 1,
      "metadata": {
        "id": "1nfMVgS8ExbP"
      },
      "outputs": [],
      "source": [
        "import pandas as pd\n",
        "import numpy as np\n",
        "import scipy.sparse as sparse\n",
        "from sklearn.model_selection import train_test_split\n",
        "import json\n"
      ]
    },
    {
      "cell_type": "markdown",
      "metadata": {
        "id": "_0W6azeEIVB1"
      },
      "source": [
        "## Dataframes\n"
      ]
    },
    {
      "cell_type": "code",
      "execution_count": 2,
      "metadata": {
        "id": "iTXsJO6tE3WH"
      },
      "outputs": [],
      "source": [
        "df_postulantes = pd.read_csv('postulantes_procesados.csv', index_col=0)\n",
        "df_establecimientos = pd.read_csv('establecimientos_procesados.csv', index_col=0)\n",
        "df_postulaciones_training = pd.read_csv('postulaciones_training.csv', index_col=0)\n",
        "df_postulaciones_testing = pd.read_csv('postulaciones_testing.csv', index_col=0)"
      ]
    },
    {
      "cell_type": "code",
      "execution_count": 3,
      "metadata": {
        "id": "pw_1FoWwFCMQ"
      },
      "outputs": [],
      "source": [
        "user_items_testing = {}\n",
        "\n",
        "for row in df_postulaciones_testing.itertuples():\n",
        "  if row[1] not in user_items_testing:\n",
        "      user_items_testing[row[1]] = []\n",
        "  user_items_testing[row[1]].append(row[2])"
      ]
    },
    {
      "cell_type": "code",
      "execution_count": 4,
      "metadata": {
        "id": "BSmCRsdUFIHW"
      },
      "outputs": [],
      "source": [
        "# Definicion de métricas (No editar)\n",
        "# Obtenido de https://gist.github.com/bwhite/3726239\n",
        "\n",
        "def precision_at_k_perso(r, k):\n",
        "    assert k >= 1\n",
        "    r = np.asarray(r)[:k] != 0\n",
        "    if r.size != k:\n",
        "        raise ValueError('Relevance score length < k')\n",
        "    return np.mean(r)\n",
        "\n",
        "def average_precision(r):\n",
        "    r = np.asarray(r) != 0\n",
        "    out = [precision_at_k_perso(r, k + 1) for k in range(r.size) if r[k]]\n",
        "    if not out:\n",
        "        return 0.\n",
        "    return np.mean(out)\n",
        "\n",
        "def mean_average_precision(rs):\n",
        "    return np.mean([average_precision(r) for r in rs])\n",
        "\n",
        "def dcg_at_k(r, k):\n",
        "    r = np.asarray(r, dtype=float)[:k]\n",
        "    if r.size:\n",
        "        return np.sum(np.subtract(np.power(2, r), 1) / np.log2(np.arange(2, r.size + 2)))\n",
        "    return 0.\n",
        "\n",
        "\n",
        "def ndcg_at_k(r, k):\n",
        "    idcg = dcg_at_k(sorted(r, reverse=True), k)\n",
        "\n",
        "    if not idcg:\n",
        "        return 0.\n",
        "    return dcg_at_k(r, k) / idcg\n",
        "\n",
        "def recall_at_k(r):\n",
        "    recall = np.mean(r)\n",
        "    return recall"
      ]
    },
    {
      "cell_type": "code",
      "execution_count": 5,
      "metadata": {
        "id": "ZUk0CdN7uKbs"
      },
      "outputs": [],
      "source": [
        "user_items_training = {}\n",
        "itemset_training = set()\n",
        "\n",
        "counter = {}\n",
        "item_map = {}\n",
        "i = 0\n",
        "for row in df_postulaciones_training.itertuples():\n",
        "  if row[1] not in user_items_training:\n",
        "      user_items_training[row[1]] = []\n",
        "  if row[2] not in itemset_training:\n",
        "     item_map[row[2]] = i\n",
        "     counter[item_map[row[2]]] = 0\n",
        "     i += 1\n",
        "  user_items_training[row[1]].append(row[2])\n",
        "  itemset_training.add(row[2])\n",
        "  counter[item_map[row[2]]] += 1\n",
        "\n",
        "itemset_training = np.sort(list(itemset_training))\n",
        "counter = [(counter[key], key) for key in counter.keys()]\n",
        "counter.sort(reverse=True)"
      ]
    },
    {
      "cell_type": "code",
      "execution_count": 6,
      "metadata": {},
      "outputs": [],
      "source": [
        "class most_popular():\n",
        "\n",
        "    def __init__(self, counter):\n",
        "        self.counter = counter\n",
        "        print(counter)\n",
        "\n",
        "    def recommend(self, userid=None, user_items=None, N=None):\n",
        "        return [np.array([x[1] for x in self.counter[:20]])]\n",
        "        \n"
      ]
    },
    {
      "cell_type": "code",
      "execution_count": 7,
      "metadata": {},
      "outputs": [],
      "source": [
        "import random\n",
        "class randomModel():\n",
        "\n",
        "    def __init__(self, itemset):\n",
        "        self.itemset = range(len(itemset))\n",
        "\n",
        "    def recommend(self, userid=None, user_items=None, N=20):\n",
        "        return [np.array(random.sample(self.itemset,N))]"
      ]
    },
    {
      "cell_type": "code",
      "execution_count": 8,
      "metadata": {
        "id": "sPVoFnpKFJBV"
      },
      "outputs": [],
      "source": [
        "sparse_matrix = np.zeros((len(user_items_training), len(itemset_training)))\n",
        "userid_to_i = {}\n",
        "\n",
        "for i, items in enumerate(user_items_training.values()):\n",
        "    sparse_matrix[i] = np.isin(itemset_training, items, assume_unique=True).astype(int)\n",
        "\n",
        "\n",
        "matrix = sparse.csr_matrix(sparse_matrix.T)\n",
        "\n",
        "user_ids = {key: i for i, key in enumerate(user_items_training.keys())}\n",
        "user_item_matrix = matrix.T.tocsr()"
      ]
    },
    {
      "cell_type": "code",
      "execution_count": 9,
      "metadata": {
        "id": "1ynejRo5FNwW"
      },
      "outputs": [],
      "source": [
        "def evaluate_model(model, n):\n",
        "  mean_map = 0.\n",
        "  mean_ndcg = 0.\n",
        "  mean_recall = 0.\n",
        "  for u, c in zip(user_items_testing.keys(), range(len(user_items_testing.keys()))):\n",
        "    rec = model.recommend(c, user_item_matrix[c], n)[0]\n",
        "    rel_vector = [np.isin(itemset_training[rec], user_items_testing[u], assume_unique=True).astype(int)]\n",
        "    vector_for_recall = [np.isin(user_items_testing[u], itemset_training[rec], assume_unique=True).astype(int)]\n",
        "    mean_map += mean_average_precision(rel_vector)\n",
        "    mean_ndcg += ndcg_at_k(rel_vector, n)\n",
        "    mean_recall += recall_at_k(vector_for_recall)\n",
        "\n",
        "  mean_map /= len(user_items_testing)\n",
        "  mean_ndcg /= len(user_items_testing)\n",
        "  mean_recall /= len(user_items_testing)\n",
        "\n",
        "  return mean_map, mean_ndcg, mean_recall"
      ]
    },
    {
      "cell_type": "code",
      "execution_count": 10,
      "metadata": {
        "id": "99oGWEouFPPl"
      },
      "outputs": [],
      "source": [
        "def show_recommendations(model, user, n):\n",
        "  recommendations = model.recommend(userid=user, user_items=user_item_matrix[user], N=n)[0]\n",
        "  return itemset_training[recommendations]"
      ]
    },
    {
      "cell_type": "code",
      "execution_count": 11,
      "metadata": {},
      "outputs": [
        {
          "name": "stdout",
          "output_type": "stream",
          "text": [
            "[(4100, 103), (3159, 64), (3113, 65), (2492, 87), (2346, 97), (2309, 12), (2183, 48), (2156, 181), (2000, 324), (1997, 194), (1965, 38), (1926, 231), (1838, 179), (1828, 78), (1746, 104), (1623, 0), (1583, 452), (1570, 58), (1567, 100), (1545, 95), (1521, 26), (1508, 3), (1497, 139), (1479, 88), (1432, 237), (1399, 223), (1358, 112), (1329, 249), (1321, 284), (1285, 161), (1273, 59), (1269, 99), (1268, 264), (1268, 22), (1261, 132), (1258, 142), (1252, 57), (1245, 120), (1245, 52), (1243, 329), (1243, 307), (1243, 50), (1232, 79), (1221, 147), (1216, 299), (1212, 92), (1212, 40), (1184, 429), (1181, 323), (1180, 327), (1176, 143), (1172, 288), (1170, 239), (1169, 224), (1156, 21), (1154, 611), (1136, 397), (1134, 124), (1131, 325), (1129, 531), (1111, 509), (1101, 47), (1096, 346), (1060, 388), (1058, 266), (1058, 200), (1055, 154), (1047, 232), (1035, 32), (1024, 163), (1016, 127), (1015, 361), (1010, 623), (1002, 357), (988, 376), (977, 274), (965, 276), (965, 44), (963, 254), (959, 649), (954, 171), (950, 364), (946, 273), (945, 136), (938, 126), (933, 245), (918, 68), (905, 558), (903, 208), (898, 392), (893, 146), (892, 241), (884, 167), (878, 341), (877, 443), (872, 590), (869, 330), (866, 460), (865, 483), (865, 367), (863, 375), (862, 566), (857, 616), (851, 69), (848, 155), (847, 14), (846, 336), (837, 362), (837, 130), (834, 502), (829, 168), (828, 165), (826, 60), (825, 809), (824, 31), (818, 203), (818, 153), (818, 27), (814, 702), (814, 216), (803, 230), (801, 381), (798, 268), (794, 119), (791, 16), (788, 347), (783, 67), (782, 125), (780, 372), (775, 453), (771, 351), (771, 90), (767, 679), (766, 469), (766, 102), (760, 129), (759, 174), (758, 707), (754, 184), (752, 393), (750, 394), (750, 188), (744, 246), (735, 262), (734, 191), (728, 243), (726, 415), (726, 144), (724, 315), (719, 681), (719, 207), (716, 669), (715, 20), (714, 540), (713, 451), (709, 7), (702, 722), (698, 30), (693, 565), (689, 437), (684, 11), (683, 25), (681, 636), (681, 321), (679, 304), (678, 519), (678, 300), (675, 371), (674, 684), (673, 122), (671, 185), (656, 431), (656, 356), (655, 421), (655, 10), (653, 532), (653, 177), (651, 197), (650, 39), (645, 306), (644, 620), (643, 220), (636, 205), (634, 178), (633, 233), (631, 308), (630, 157), (629, 173), (626, 204), (626, 101), (626, 94), (624, 345), (624, 289), (621, 615), (617, 695), (616, 663), (613, 152), (610, 651), (610, 355), (606, 380), (601, 109), (597, 110), (590, 370), (588, 662), (588, 18), (586, 485), (586, 318), (583, 646), (581, 377), (578, 517), (576, 115), (570, 670), (570, 333), (569, 283), (566, 287), (566, 193), (563, 489), (561, 459), (558, 548), (554, 378), (554, 128), (550, 349), (549, 2), (545, 272), (544, 71), (541, 526), (540, 465), (540, 221), (537, 326), (536, 666), (533, 473), (533, 402), (531, 296), (530, 13), (528, 180), (527, 506), (526, 423), (524, 807), (524, 547), (523, 91), (521, 286), (517, 175), (516, 691), (516, 676), (516, 552), (516, 496), (514, 529), (514, 385), (514, 9), (513, 515), (512, 602), (512, 508), (512, 267), (507, 211), (504, 971), (500, 427), (499, 683), (499, 390), (497, 236), (493, 33), (486, 498), (483, 491), (483, 219), (483, 86), (482, 257), (481, 560), (481, 440), (481, 418), (480, 613), (478, 847), (478, 457), (478, 399), (476, 578), (476, 505), (476, 292), (475, 348), (474, 535), (472, 470), (471, 549), (471, 190), (468, 298), (465, 29), (464, 76), (463, 648), (462, 729), (462, 138), (461, 511), (460, 471), (458, 726), (457, 160), (452, 697), (452, 592), (452, 405), (450, 671), (450, 134), (443, 365), (443, 131), (442, 492), (442, 189), (442, 23), (437, 579), (437, 278), (433, 63), (430, 600), (430, 522), (430, 450), (428, 657), (428, 140), (427, 256), (427, 250), (427, 24), (426, 448), (425, 920), (424, 698), (424, 335), (421, 575), (421, 391), (419, 818), (419, 700), (418, 712), (418, 494), (417, 474), (415, 675), (415, 571), (414, 591), (414, 259), (413, 270), (411, 524), (409, 260), (407, 653), (407, 632), (407, 417), (407, 235), (406, 1006), (406, 586), (405, 42), (404, 445), (404, 244), (402, 8), (400, 80), (398, 117), (396, 537), (396, 400), (395, 713), (395, 251), (394, 433), (393, 501), (393, 404), (393, 258), (392, 338), (389, 564), (388, 776), (385, 384), (383, 500), (382, 775), (382, 638), (380, 70), (379, 413), (377, 839), (376, 755), (376, 432), (375, 389), (375, 226), (375, 195), (373, 704), (373, 588), (373, 164), (372, 222), (372, 198), (372, 196), (371, 705), (371, 476), (370, 608), (370, 539), (369, 366), (368, 714), (367, 692), (367, 562), (367, 159), (365, 295), (364, 630), (364, 447), (363, 594), (363, 225), (360, 484), (360, 156), (357, 353), (356, 595), (355, 480), (350, 150), (348, 981), (345, 837), (345, 752), (344, 411), (344, 320), (344, 213), (342, 477), (339, 787), (339, 652), (339, 538), (338, 621), (338, 544), (337, 867), (337, 637), (336, 747), (336, 530), (335, 555), (334, 930), (334, 182), (333, 414), (332, 708), (332, 215), (329, 626), (329, 601), (328, 504), (328, 75), (327, 281), (325, 210), (325, 1), (324, 741), (323, 19), (322, 49), (321, 746), (319, 569), (319, 479), (319, 242), (318, 765), (317, 98), (316, 778), (316, 711), (314, 481), (313, 435), (313, 73), (312, 201), (311, 234), (309, 186), (306, 77), (305, 918), (304, 756), (304, 359), (303, 814), (303, 314), (302, 581), (301, 774), (299, 56), (297, 570), (297, 214), (296, 763), (296, 673), (294, 438), (293, 687), (293, 572), (292, 290), (292, 238), (291, 441), (291, 301), (290, 105), (290, 43), (289, 339), (288, 866), (288, 554), (288, 240), (287, 176), (286, 1066), (286, 795), (286, 66), (285, 777), (285, 668), (284, 640), (283, 379), (282, 929), (282, 803), (282, 518), (281, 74), (279, 733), (278, 583), (277, 1022), (277, 145), (276, 979), (276, 808), (276, 631), (275, 111), (273, 706), (271, 710), (271, 472), (269, 655), (268, 664), (268, 534), (268, 503), (267, 634), (267, 81), (266, 1000), (266, 820), (266, 340), (265, 463), (265, 158), (263, 782), (263, 5), (262, 761), (261, 934), (261, 856), (260, 832), (260, 624), (257, 449), (257, 169), (256, 884), (255, 791), (253, 218), (252, 853), (252, 113), (251, 553), (251, 209), (251, 36), (249, 753), (249, 720), (249, 401), (248, 386), (247, 172), (246, 857), (246, 772), (246, 83), (246, 35), (245, 656), (245, 255), (245, 4), (244, 342), (243, 1054), (243, 988), (243, 805), (243, 582), (243, 344), (243, 54), (242, 412), (242, 133), (240, 836), (240, 123), (240, 37), (239, 784), (239, 678), (238, 409), (238, 334), (237, 520), (236, 831), (236, 462), (236, 313), (235, 559), (233, 841), (233, 751), (233, 577), (233, 408), (232, 840), (232, 563), (232, 217), (230, 41), (229, 882), (227, 740), (226, 701), (226, 282), (226, 61), (225, 151), (224, 878), (224, 829), (224, 735), (224, 430), (224, 387), (224, 137), (222, 757), (222, 317), (222, 72), (221, 396), (220, 940), (219, 525), (217, 731), (217, 121), (216, 478), (215, 269), (214, 879), (214, 545), (214, 527), (214, 248), (213, 291), (212, 928), (211, 858), (210, 864), (210, 851), (210, 606), (210, 252), (209, 587), (209, 516), (208, 994), (208, 680), (208, 322), (207, 813), (207, 493), (207, 490), (207, 420), (207, 395), (205, 716), (205, 658), (205, 343), (205, 53), (204, 694), (204, 183), (203, 228), (202, 84), (201, 660), (200, 305), (199, 973), (199, 961), (199, 271), (196, 647), (196, 202), (194, 865), (194, 766), (194, 732), (194, 725), (194, 456), (193, 458), (192, 816), (192, 773), (192, 293), (189, 852), (189, 635), (189, 285), (189, 192), (187, 937), (186, 1004), (185, 149), (185, 62), (184, 804), (184, 612), (184, 589), (184, 467), (184, 17), (183, 824), (183, 699), (182, 978), (181, 873), (181, 796), (181, 551), (180, 749), (180, 316), (178, 641), (178, 580), (177, 742), (177, 523), (176, 762), (176, 750), (176, 665), (176, 643), (176, 639), (176, 439), (174, 850), (174, 723), (173, 846), (173, 798), (173, 425), (173, 422), (171, 897), (171, 672), (170, 948), (170, 943), (170, 715), (170, 424), (169, 876), (168, 482), (168, 360), (168, 337), (166, 574), (166, 567), (166, 368), (165, 786), (165, 96), (164, 629), (163, 688), (163, 466), (162, 989), (162, 717), (161, 737), (161, 628), (161, 598), (161, 303), (160, 627), (160, 363), (158, 382), (157, 1008), (157, 748), (157, 354), (157, 253), (156, 1021), (156, 956), (156, 760), (155, 854), (155, 107), (154, 1073), (154, 957), (154, 926), (154, 426), (153, 860), (153, 834), (153, 332), (152, 868), (152, 817), (152, 661), (151, 941), (151, 419), (150, 696), (150, 34), (149, 1087), (149, 1037), (149, 871), (149, 593), (149, 561), (149, 521), (148, 745), (147, 932), (147, 810), (147, 790), (147, 312), (146, 828), (146, 759), (146, 619), (146, 604), (145, 686), (144, 738), (144, 709), (143, 1024), (142, 889), (142, 797), (142, 114), (142, 93), (141, 674), (140, 45), (139, 769), (139, 667), (139, 434), (138, 938), (138, 265), (137, 985), (137, 693), (137, 309), (136, 617), (136, 475), (135, 1047), (135, 913), (135, 642), (134, 953), (134, 887), (134, 689), (134, 633), (133, 800), (132, 1075), (132, 917), (132, 781), (132, 758), (132, 727), (132, 116), (131, 911), (131, 892), (131, 350), (130, 1058), (130, 1042), (130, 618), (130, 369), (130, 280), (129, 849), (129, 802), (129, 788), (129, 764), (129, 703), (129, 542), (129, 454), (129, 212), (128, 997), (128, 898), (128, 605), (128, 118), (127, 1070), (127, 883), (127, 827), (126, 1025), (126, 904), (126, 596), (125, 1012), (124, 936), (124, 811), (124, 199), (123, 1093), (123, 331), (123, 310), (122, 1063), (122, 906), (122, 891), (122, 819), (121, 993), (121, 959), (120, 302), (119, 1011), (119, 826), (118, 1105), (118, 1033), (118, 1019), (118, 833), (118, 514), (117, 585), (117, 406), (116, 622), (116, 51), (115, 914), (115, 607), (115, 436), (114, 999), (114, 942), (114, 910), (114, 736), (113, 888), (113, 815), (113, 597), (113, 499), (112, 510), (111, 1121), (111, 893), (111, 830), (111, 444), (111, 294), (110, 1111), (110, 728), (109, 1100), (109, 806), (108, 1023), (108, 969), (108, 935), (107, 1035), (107, 28), (106, 1061), (106, 373), (105, 974), (105, 528), (105, 461), (105, 358), (105, 108), (103, 1080), (103, 1060), (103, 1034), (103, 899), (103, 15), (102, 1036), (102, 925), (102, 835), (101, 962), (101, 905), (101, 719), (101, 584), (101, 46), (100, 1039), (100, 870), (100, 859), (100, 838), (100, 263), (99, 1026), (99, 919), (99, 718), (99, 352), (98, 825), (98, 768), (98, 311), (97, 1079), (96, 1083), (96, 1043), (96, 885), (96, 536), (96, 297), (95, 229), (95, 227), (95, 141), (94, 1113), (94, 1112), (94, 984), (94, 982), (94, 754), (93, 1085), (93, 895), (92, 812), (92, 770), (92, 724), (92, 599), (92, 576), (92, 455), (91, 1088), (91, 6), (90, 767), (89, 1127), (89, 1010), (89, 980), (89, 855), (89, 793), (89, 677), (89, 319), (89, 261), (89, 162), (88, 721), (88, 543), (88, 416), (87, 1030), (87, 1001), (87, 987), (87, 933), (86, 862), (86, 495), (86, 106), (85, 1064), (85, 823), (84, 659), (84, 654), (84, 512), (84, 464), (84, 279), (84, 85), (83, 1020), (83, 625), (83, 374), (82, 1115), (82, 902), (81, 1017), (81, 964), (81, 821), (80, 739), (80, 650), (79, 1098), (79, 900), (78, 1108), (78, 1049), (78, 966), (78, 645), (77, 682), (77, 614), (77, 497), (76, 1096), (76, 915), (75, 921), (74, 690), (74, 556), (73, 992), (73, 730), (73, 644), (73, 428), (73, 328), (72, 1086), (72, 1056), (72, 977), (72, 872), (72, 488), (71, 1109), (71, 1084), (71, 1082), (71, 1065), (71, 1015), (71, 931), (71, 880), (71, 843), (71, 801), (71, 135), (70, 1031), (69, 1055), (69, 1038), (69, 894), (69, 744), (68, 1129), (68, 789), (66, 1120), (66, 1009), (66, 1005), (66, 945), (66, 907), (66, 546), (66, 468), (65, 896), (65, 573), (64, 1097), (64, 968), (64, 909), (64, 507), (64, 442), (63, 1139), (63, 1118), (63, 1078), (63, 1014), (63, 869), (63, 89), (62, 1107), (62, 1099), (62, 1090), (62, 995), (62, 939), (62, 923), (62, 861), (62, 822), (61, 1137), (61, 983), (61, 779), (60, 1128), (60, 949), (60, 487), (60, 82), (59, 1117), (59, 972), (59, 970), (59, 958), (59, 799), (58, 533), (57, 1145), (57, 1016), (57, 903), (57, 844), (57, 792), (57, 403), (57, 247), (56, 952), (55, 1057), (55, 1040), (55, 1032), (55, 960), (55, 955), (55, 780), (54, 1124), (54, 1091), (54, 951), (54, 877), (54, 148), (53, 1106), (53, 1027), (53, 890), (53, 842), (52, 1131), (52, 1094), (52, 975), (52, 863), (51, 1081), (51, 1002), (49, 1144), (49, 1076), (49, 1069), (49, 1018), (49, 848), (48, 1138), (48, 1110), (48, 1052), (48, 1046), (48, 1041), (48, 967), (48, 927), (48, 924), (48, 610), (48, 166), (47, 1095), (47, 990), (47, 881), (47, 398), (46, 1123), (46, 1089), (46, 998), (46, 685), (45, 1102), (45, 771), (44, 1140), (44, 1104), (44, 1074), (44, 1003), (44, 954), (44, 947), (44, 874), (44, 743), (44, 734), (44, 609), (43, 1068), (43, 1053), (43, 963), (43, 603), (43, 541), (42, 1067), (42, 965), (42, 886), (42, 785), (41, 986), (41, 908), (41, 568), (40, 1048), (40, 916), (40, 513), (40, 410), (39, 1135), (39, 1051), (39, 1050), (39, 950), (39, 901), (38, 1126), (38, 1071), (38, 206), (37, 1072), (37, 1045), (37, 875), (37, 783), (36, 1013), (36, 55), (35, 1142), (35, 976), (35, 946), (35, 845), (35, 486), (35, 170), (34, 1092), (34, 1077), (32, 1130), (32, 1122), (32, 1059), (32, 991), (32, 912), (32, 794), (32, 550), (31, 1136), (31, 1119), (31, 1062), (30, 1141), (30, 1132), (30, 922), (28, 1125), (28, 1103), (28, 1007), (28, 407), (28, 277), (27, 1029), (27, 187), (26, 1153), (26, 1134), (26, 557), (26, 275), (25, 1101), (25, 1044), (22, 1146), (22, 1028), (21, 1155), (21, 1133), (19, 1114), (19, 944), (18, 1147), (17, 1149), (17, 446), (15, 1152), (15, 1148), (15, 1116), (14, 1151), (14, 1143), (13, 383), (10, 996), (9, 1154), (4, 1150)]\n"
          ]
        }
      ],
      "source": [
        "random_rec = randomModel(itemset=itemset_training)\n",
        "most_popular_rec = most_popular(counter)"
      ]
    },
    {
      "cell_type": "code",
      "execution_count": 12,
      "metadata": {},
      "outputs": [
        {
          "name": "stdout",
          "output_type": "stream",
          "text": [
            "map: 0.00450250917004098\n",
            "ndcg: 0.025019816963320604\n",
            "recall: 0.017383458942153204\n"
          ]
        }
      ],
      "source": [
        "r_map, r_nndcg, r_nrecall = evaluate_model(random_rec, 20)\n",
        "\n",
        "print('map: {}\\nndcg: {}\\nrecall: {}'.format(r_map, r_nndcg, r_nrecall))"
      ]
    },
    {
      "cell_type": "code",
      "execution_count": 13,
      "metadata": {},
      "outputs": [
        {
          "name": "stdout",
          "output_type": "stream",
          "text": [
            "map: 0.008088544649959005\n",
            "ndcg: 0.053599481155869426\n",
            "recall: 0.035340872886091536\n"
          ]
        }
      ],
      "source": [
        "r_map, r_nndcg, r_nrecall = evaluate_model(most_popular_rec, 20)\n",
        "\n",
        "print('map: {}\\nndcg: {}\\nrecall: {}'.format(r_map, r_nndcg, r_nrecall))"
      ]
    },
    {
      "cell_type": "code",
      "execution_count": 14,
      "metadata": {},
      "outputs": [],
      "source": [
        "recomendaciones = {}\n",
        "\n",
        "for u, c in zip(user_items_testing.keys(), range(len(user_items_testing.keys()))):\n",
        "    rec = random_rec.recommend(c, user_item_matrix[c], 20)\n",
        "    recomendaciones[u] = [int(i) for i in itemset_training[rec][0]]\n",
        "\n",
        "with open('../Visualizacion/data/recomendaciones_random.json', 'w') as output:\n",
        "    json.dump(recomendaciones, output)"
      ]
    },
    {
      "cell_type": "code",
      "execution_count": 15,
      "metadata": {},
      "outputs": [
        {
          "ename": "",
          "evalue": "",
          "output_type": "error",
          "traceback": [
            "\u001b[1;31mThe Kernel crashed while executing code in the current cell or a previous cell. \n",
            "\u001b[1;31mPlease review the code in the cell(s) to identify a possible cause of the failure. \n",
            "\u001b[1;31mClick <a href='https://aka.ms/vscodeJupyterKernelCrash'>here</a> for more info. \n",
            "\u001b[1;31mView Jupyter <a href='command:jupyter.viewOutput'>log</a> for further details."
          ]
        }
      ],
      "source": [
        "recomendaciones = {}\n",
        "\n",
        "for u, c in zip(user_items_testing.keys(), range(len(user_items_testing.keys()))):\n",
        "    rec = most_popular_rec.recommend(c, user_item_matrix[c], 20)\n",
        "    recomendaciones[u] = [int(i) for i in itemset_training[rec][0]]\n",
        "\n",
        "with open('../Visualizacion/data/recomendaciones_mp.json', 'w') as output:\n",
        "    json.dump(recomendaciones, output)"
      ]
    }
  ],
  "metadata": {
    "colab": {
      "collapsed_sections": [
        "AQ5HykA-Gh6w",
        "4bve9AjFtRw4",
        "Tt0sUNoBo0BP"
      ],
      "provenance": []
    },
    "kernelspec": {
      "display_name": "Python 3",
      "name": "python3"
    },
    "language_info": {
      "codemirror_mode": {
        "name": "ipython",
        "version": 3
      },
      "file_extension": ".py",
      "mimetype": "text/x-python",
      "name": "python",
      "nbconvert_exporter": "python",
      "pygments_lexer": "ipython3",
      "version": "3.10.12"
    },
    "widgets": {
      "application/vnd.jupyter.widget-state+json": {
        "0624a397d2c84f0e8e5fd0ae83dc76ac": {
          "model_module": "@jupyter-widgets/controls",
          "model_module_version": "1.5.0",
          "model_name": "HTMLModel",
          "state": {
            "_dom_classes": [],
            "_model_module": "@jupyter-widgets/controls",
            "_model_module_version": "1.5.0",
            "_model_name": "HTMLModel",
            "_view_count": null,
            "_view_module": "@jupyter-widgets/controls",
            "_view_module_version": "1.5.0",
            "_view_name": "HTMLView",
            "description": "",
            "description_tooltip": null,
            "layout": "IPY_MODEL_53fabec9b0084f9a9d75449b07299328",
            "placeholder": "​",
            "style": "IPY_MODEL_b192572f5af74c0bb2e3375426775ec5",
            "value": "100%"
          }
        },
        "239fa54c47864ee78e65dc9a2ed7724c": {
          "model_module": "@jupyter-widgets/controls",
          "model_module_version": "1.5.0",
          "model_name": "ProgressStyleModel",
          "state": {
            "_model_module": "@jupyter-widgets/controls",
            "_model_module_version": "1.5.0",
            "_model_name": "ProgressStyleModel",
            "_view_count": null,
            "_view_module": "@jupyter-widgets/base",
            "_view_module_version": "1.2.0",
            "_view_name": "StyleView",
            "bar_color": null,
            "description_width": ""
          }
        },
        "4cce36daf4824190aa407ef674cf3e19": {
          "model_module": "@jupyter-widgets/controls",
          "model_module_version": "1.5.0",
          "model_name": "FloatProgressModel",
          "state": {
            "_dom_classes": [],
            "_model_module": "@jupyter-widgets/controls",
            "_model_module_version": "1.5.0",
            "_model_name": "FloatProgressModel",
            "_view_count": null,
            "_view_module": "@jupyter-widgets/controls",
            "_view_module_version": "1.5.0",
            "_view_name": "ProgressView",
            "bar_style": "success",
            "description": "",
            "description_tooltip": null,
            "layout": "IPY_MODEL_e8fdeea41bdc484698b585dfdf363107",
            "max": 10,
            "min": 0,
            "orientation": "horizontal",
            "style": "IPY_MODEL_239fa54c47864ee78e65dc9a2ed7724c",
            "value": 10
          }
        },
        "53fabec9b0084f9a9d75449b07299328": {
          "model_module": "@jupyter-widgets/base",
          "model_module_version": "1.2.0",
          "model_name": "LayoutModel",
          "state": {
            "_model_module": "@jupyter-widgets/base",
            "_model_module_version": "1.2.0",
            "_model_name": "LayoutModel",
            "_view_count": null,
            "_view_module": "@jupyter-widgets/base",
            "_view_module_version": "1.2.0",
            "_view_name": "LayoutView",
            "align_content": null,
            "align_items": null,
            "align_self": null,
            "border": null,
            "bottom": null,
            "display": null,
            "flex": null,
            "flex_flow": null,
            "grid_area": null,
            "grid_auto_columns": null,
            "grid_auto_flow": null,
            "grid_auto_rows": null,
            "grid_column": null,
            "grid_gap": null,
            "grid_row": null,
            "grid_template_areas": null,
            "grid_template_columns": null,
            "grid_template_rows": null,
            "height": null,
            "justify_content": null,
            "justify_items": null,
            "left": null,
            "margin": null,
            "max_height": null,
            "max_width": null,
            "min_height": null,
            "min_width": null,
            "object_fit": null,
            "object_position": null,
            "order": null,
            "overflow": null,
            "overflow_x": null,
            "overflow_y": null,
            "padding": null,
            "right": null,
            "top": null,
            "visibility": null,
            "width": null
          }
        },
        "68bd655b4d494caab0a64e70c77e6466": {
          "model_module": "@jupyter-widgets/controls",
          "model_module_version": "1.5.0",
          "model_name": "DescriptionStyleModel",
          "state": {
            "_model_module": "@jupyter-widgets/controls",
            "_model_module_version": "1.5.0",
            "_model_name": "DescriptionStyleModel",
            "_view_count": null,
            "_view_module": "@jupyter-widgets/base",
            "_view_module_version": "1.2.0",
            "_view_name": "StyleView",
            "description_width": ""
          }
        },
        "87a3195a40504585b007697922df5030": {
          "model_module": "@jupyter-widgets/controls",
          "model_module_version": "1.5.0",
          "model_name": "HTMLModel",
          "state": {
            "_dom_classes": [],
            "_model_module": "@jupyter-widgets/controls",
            "_model_module_version": "1.5.0",
            "_model_name": "HTMLModel",
            "_view_count": null,
            "_view_module": "@jupyter-widgets/controls",
            "_view_module_version": "1.5.0",
            "_view_name": "HTMLView",
            "description": "",
            "description_tooltip": null,
            "layout": "IPY_MODEL_ad27987f58fa412ebd9ef5f25fb23d58",
            "placeholder": "​",
            "style": "IPY_MODEL_68bd655b4d494caab0a64e70c77e6466",
            "value": " 10/10 [01:29&lt;00:00,  8.28s/it]"
          }
        },
        "ad27987f58fa412ebd9ef5f25fb23d58": {
          "model_module": "@jupyter-widgets/base",
          "model_module_version": "1.2.0",
          "model_name": "LayoutModel",
          "state": {
            "_model_module": "@jupyter-widgets/base",
            "_model_module_version": "1.2.0",
            "_model_name": "LayoutModel",
            "_view_count": null,
            "_view_module": "@jupyter-widgets/base",
            "_view_module_version": "1.2.0",
            "_view_name": "LayoutView",
            "align_content": null,
            "align_items": null,
            "align_self": null,
            "border": null,
            "bottom": null,
            "display": null,
            "flex": null,
            "flex_flow": null,
            "grid_area": null,
            "grid_auto_columns": null,
            "grid_auto_flow": null,
            "grid_auto_rows": null,
            "grid_column": null,
            "grid_gap": null,
            "grid_row": null,
            "grid_template_areas": null,
            "grid_template_columns": null,
            "grid_template_rows": null,
            "height": null,
            "justify_content": null,
            "justify_items": null,
            "left": null,
            "margin": null,
            "max_height": null,
            "max_width": null,
            "min_height": null,
            "min_width": null,
            "object_fit": null,
            "object_position": null,
            "order": null,
            "overflow": null,
            "overflow_x": null,
            "overflow_y": null,
            "padding": null,
            "right": null,
            "top": null,
            "visibility": null,
            "width": null
          }
        },
        "b192572f5af74c0bb2e3375426775ec5": {
          "model_module": "@jupyter-widgets/controls",
          "model_module_version": "1.5.0",
          "model_name": "DescriptionStyleModel",
          "state": {
            "_model_module": "@jupyter-widgets/controls",
            "_model_module_version": "1.5.0",
            "_model_name": "DescriptionStyleModel",
            "_view_count": null,
            "_view_module": "@jupyter-widgets/base",
            "_view_module_version": "1.2.0",
            "_view_name": "StyleView",
            "description_width": ""
          }
        },
        "b2fb4dd729d84162aa45d3027593542d": {
          "model_module": "@jupyter-widgets/controls",
          "model_module_version": "1.5.0",
          "model_name": "HBoxModel",
          "state": {
            "_dom_classes": [],
            "_model_module": "@jupyter-widgets/controls",
            "_model_module_version": "1.5.0",
            "_model_name": "HBoxModel",
            "_view_count": null,
            "_view_module": "@jupyter-widgets/controls",
            "_view_module_version": "1.5.0",
            "_view_name": "HBoxView",
            "box_style": "",
            "children": [
              "IPY_MODEL_0624a397d2c84f0e8e5fd0ae83dc76ac",
              "IPY_MODEL_4cce36daf4824190aa407ef674cf3e19",
              "IPY_MODEL_87a3195a40504585b007697922df5030"
            ],
            "layout": "IPY_MODEL_da37c2a805bc43a7b449bdb8ce80fc9c"
          }
        },
        "da37c2a805bc43a7b449bdb8ce80fc9c": {
          "model_module": "@jupyter-widgets/base",
          "model_module_version": "1.2.0",
          "model_name": "LayoutModel",
          "state": {
            "_model_module": "@jupyter-widgets/base",
            "_model_module_version": "1.2.0",
            "_model_name": "LayoutModel",
            "_view_count": null,
            "_view_module": "@jupyter-widgets/base",
            "_view_module_version": "1.2.0",
            "_view_name": "LayoutView",
            "align_content": null,
            "align_items": null,
            "align_self": null,
            "border": null,
            "bottom": null,
            "display": null,
            "flex": null,
            "flex_flow": null,
            "grid_area": null,
            "grid_auto_columns": null,
            "grid_auto_flow": null,
            "grid_auto_rows": null,
            "grid_column": null,
            "grid_gap": null,
            "grid_row": null,
            "grid_template_areas": null,
            "grid_template_columns": null,
            "grid_template_rows": null,
            "height": null,
            "justify_content": null,
            "justify_items": null,
            "left": null,
            "margin": null,
            "max_height": null,
            "max_width": null,
            "min_height": null,
            "min_width": null,
            "object_fit": null,
            "object_position": null,
            "order": null,
            "overflow": null,
            "overflow_x": null,
            "overflow_y": null,
            "padding": null,
            "right": null,
            "top": null,
            "visibility": null,
            "width": null
          }
        },
        "e8fdeea41bdc484698b585dfdf363107": {
          "model_module": "@jupyter-widgets/base",
          "model_module_version": "1.2.0",
          "model_name": "LayoutModel",
          "state": {
            "_model_module": "@jupyter-widgets/base",
            "_model_module_version": "1.2.0",
            "_model_name": "LayoutModel",
            "_view_count": null,
            "_view_module": "@jupyter-widgets/base",
            "_view_module_version": "1.2.0",
            "_view_name": "LayoutView",
            "align_content": null,
            "align_items": null,
            "align_self": null,
            "border": null,
            "bottom": null,
            "display": null,
            "flex": null,
            "flex_flow": null,
            "grid_area": null,
            "grid_auto_columns": null,
            "grid_auto_flow": null,
            "grid_auto_rows": null,
            "grid_column": null,
            "grid_gap": null,
            "grid_row": null,
            "grid_template_areas": null,
            "grid_template_columns": null,
            "grid_template_rows": null,
            "height": null,
            "justify_content": null,
            "justify_items": null,
            "left": null,
            "margin": null,
            "max_height": null,
            "max_width": null,
            "min_height": null,
            "min_width": null,
            "object_fit": null,
            "object_position": null,
            "order": null,
            "overflow": null,
            "overflow_x": null,
            "overflow_y": null,
            "padding": null,
            "right": null,
            "top": null,
            "visibility": null,
            "width": null
          }
        }
      }
    }
  },
  "nbformat": 4,
  "nbformat_minor": 0
}
